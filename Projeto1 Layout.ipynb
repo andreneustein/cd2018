{
 "cells": [
  {
   "cell_type": "markdown",
   "metadata": {},
   "source": [
    "___\n",
    "# Ciência dos Dados - PROJETO 1"
   ]
  },
  {
   "cell_type": "markdown",
   "metadata": {},
   "source": [
    "## André Neustein\n",
    "___"
   ]
  },
  {
   "cell_type": "markdown",
   "metadata": {},
   "source": [
    "## TÍTULO DO SEU PROJETO"
   ]
  },
  {
   "cell_type": "markdown",
   "metadata": {},
   "source": [
    "___\n",
    "## Introdução\n",
    "\n",
    "Descreva aqui o que pretende analisar!\n",
    "\n",
    "Capriche no português!! \n",
    "Se quiser pode utilizar pesquisas semelhantes publicadas em sites confiáveis!!\n"
   ]
  },
  {
   "cell_type": "markdown",
   "metadata": {},
   "source": [
    "___\n",
    "## Filtros da base de dados"
   ]
  },
  {
   "cell_type": "code",
   "execution_count": 24,
   "metadata": {
    "collapsed": true
   },
   "outputs": [],
   "source": [
    "%matplotlib inline\n",
    "import pandas as pd\n",
    "import matplotlib.pyplot as plt\n",
    "import numpy as np\n",
    "import os"
   ]
  },
  {
   "cell_type": "code",
   "execution_count": 28,
   "metadata": {},
   "outputs": [
    {
     "name": "stdout",
     "output_type": "stream",
     "text": [
      "Esperamos trabalhar no diretório\n",
      "C:\\Users\\Elcio\\Desktop\\FACULDADE\\3° SEMESTRE\\DP CIENCIA DOS DADOS\\PROJETO 1\n"
     ]
    }
   ],
   "source": [
    "print('Esperamos trabalhar no diretório')\n",
    "print(os.getcwd())"
   ]
  },
  {
   "cell_type": "code",
   "execution_count": 29,
   "metadata": {
    "collapsed": true
   },
   "outputs": [],
   "source": [
    "#Se usar o arquivo descompactado\n",
    "#pd.read_csv('PES2015.csv',sep=',')\n",
    "\n",
    "#Se usar o arquivo compactado como está no dropbox púbico\n",
    "dados15 = pd.read_csv('PES2015csv.zip', compression='zip', header=0, sep=',', quotechar='\"')\n",
    "dados11 = pd.read_csv('PES2011csv.zip', compression='zip', header=0, sep=',', quotechar='\"')"
   ]
  },
  {
   "cell_type": "code",
   "execution_count": 30,
   "metadata": {},
   "outputs": [
    {
     "data": {
      "text/html": [
       "<div>\n",
       "<style>\n",
       "    .dataframe thead tr:only-child th {\n",
       "        text-align: right;\n",
       "    }\n",
       "\n",
       "    .dataframe thead th {\n",
       "        text-align: left;\n",
       "    }\n",
       "\n",
       "    .dataframe tbody tr th {\n",
       "        vertical-align: top;\n",
       "    }\n",
       "</style>\n",
       "<table border=\"1\" class=\"dataframe\">\n",
       "  <thead>\n",
       "    <tr style=\"text-align: right;\">\n",
       "      <th></th>\n",
       "      <th>V0601</th>\n",
       "      <th>V0401</th>\n",
       "      <th>V6007</th>\n",
       "      <th>V4750</th>\n",
       "    </tr>\n",
       "  </thead>\n",
       "  <tbody>\n",
       "    <tr>\n",
       "      <th>159852</th>\n",
       "      <td>Sim</td>\n",
       "      <td>Pessoa de referência</td>\n",
       "      <td>Regular do ensino médio ou do 2º grau</td>\n",
       "      <td>1900.0</td>\n",
       "    </tr>\n",
       "    <tr>\n",
       "      <th>159854</th>\n",
       "      <td>Sim</td>\n",
       "      <td>Pessoa de referência</td>\n",
       "      <td>Regular do ensino médio ou do 2º grau</td>\n",
       "      <td>450.0</td>\n",
       "    </tr>\n",
       "    <tr>\n",
       "      <th>159855</th>\n",
       "      <td>Sim</td>\n",
       "      <td>Cônjuge</td>\n",
       "      <td>Regular do ensino médio ou do 2º grau</td>\n",
       "      <td>450.0</td>\n",
       "    </tr>\n",
       "    <tr>\n",
       "      <th>159860</th>\n",
       "      <td>Sim</td>\n",
       "      <td>Pessoa de referência</td>\n",
       "      <td>Elementar (primário)</td>\n",
       "      <td>890.0</td>\n",
       "    </tr>\n",
       "    <tr>\n",
       "      <th>159861</th>\n",
       "      <td>Sim</td>\n",
       "      <td>Cônjuge</td>\n",
       "      <td>Regular do ensino médio ou do 2º grau</td>\n",
       "      <td>890.0</td>\n",
       "    </tr>\n",
       "  </tbody>\n",
       "</table>\n",
       "</div>"
      ],
      "text/plain": [
       "       V0601                 V0401                                  V6007  \\\n",
       "159852   Sim  Pessoa de referência  Regular do ensino médio ou do 2º grau   \n",
       "159854   Sim  Pessoa de referência  Regular do ensino médio ou do 2º grau   \n",
       "159855   Sim               Cônjuge  Regular do ensino médio ou do 2º grau   \n",
       "159860   Sim  Pessoa de referência                   Elementar (primário)   \n",
       "159861   Sim               Cônjuge  Regular do ensino médio ou do 2º grau   \n",
       "\n",
       "         V4750  \n",
       "159852  1900.0  \n",
       "159854   450.0  \n",
       "159855   450.0  \n",
       "159860   890.0  \n",
       "159861   890.0  "
      ]
     },
     "execution_count": 30,
     "metadata": {},
     "output_type": "execute_result"
    }
   ],
   "source": [
    "#selecionando as colunas\n",
    "dadosPI = dados15[dados15.UF == 31].loc[:,{\"V0401\",\"V0601\",\"V6007\",\"V4750\"}]\n",
    "#filtrando os dados\n",
    "dadosPI = dadosPI[pd.notnull(dadosPI.V0401)]\n",
    "dadosPI = dadosPI[pd.notnull(dadosPI.V0601)]\n",
    "dadosPI = dadosPI[pd.notnull(dadosPI.V6007)]\n",
    "dadosPI = dadosPI[dadosPI.V4750!=999999999999]\n",
    "#transformando as respostas numéricas em respostas\n",
    "dadosPI.V0401=dadosPI.V0401.astype('category')\n",
    "dadosPI.V0401.cat.categories = (['Pessoa de referência','Cônjuge','Filho','Outro parente','Agregado','Pensionista','Empregado doméstico'])\n",
    "dadosPI.V6007=dadosPI.V6007.astype('category')\n",
    "dadosPI.V6007.cat.categories = (['Elementar (primário)','Médio 1º ciclo (ginasial, etc.)','Médio 2º ciclo (científico, clássico, etc.)','Regular do ensino fundamental ou do 1º grau','Regular do ensino médio ou do 2º grau','Educação de jovens e adultos ou supletivo do ensino fundamental ou do 1º grau','Educação de jovens e adultos ou supletivo de ensino médio ou do 2º grau','Superior de graduação','Mestrado ou doutorado','Alfabetização de jovens e adultos','Creche','Classe de alfabetização - CA ','Maternal, jardim de infância etc.'])\n",
    "dadosPI.V0601=dadosPI.V0601.astype('category')\n",
    "dadosPI.V0601.cat.categories = (['Sim','Não'])\n",
    "dadosPI.head()"
   ]
  },
  {
   "cell_type": "code",
   "execution_count": 31,
   "metadata": {},
   "outputs": [
    {
     "data": {
      "text/plain": [
       "count    21971.000000\n",
       "mean      1254.469255\n",
       "std       1824.954353\n",
       "min          0.000000\n",
       "25%        494.000000\n",
       "50%        788.000000\n",
       "75%       1301.000000\n",
       "max      54424.000000\n",
       "Name: V4750, dtype: float64"
      ]
     },
     "execution_count": 31,
     "metadata": {},
     "output_type": "execute_result"
    }
   ],
   "source": [
    "dadosPI.V4750.describe()"
   ]
  },
  {
   "cell_type": "code",
   "execution_count": 34,
   "metadata": {},
   "outputs": [
    {
     "data": {
      "text/html": [
       "<div>\n",
       "<style>\n",
       "    .dataframe thead tr:only-child th {\n",
       "        text-align: right;\n",
       "    }\n",
       "\n",
       "    .dataframe thead th {\n",
       "        text-align: left;\n",
       "    }\n",
       "\n",
       "    .dataframe tbody tr th {\n",
       "        vertical-align: top;\n",
       "    }\n",
       "</style>\n",
       "<table border=\"1\" class=\"dataframe\">\n",
       "  <thead>\n",
       "    <tr style=\"text-align: right;\">\n",
       "      <th></th>\n",
       "      <th>V0601</th>\n",
       "      <th>V0401</th>\n",
       "      <th>V6007</th>\n",
       "      <th>V4750</th>\n",
       "      <th>classe social</th>\n",
       "    </tr>\n",
       "  </thead>\n",
       "  <tbody>\n",
       "    <tr>\n",
       "      <th>159852</th>\n",
       "      <td>Sim</td>\n",
       "      <td>Pessoa de referência</td>\n",
       "      <td>Regular do ensino médio ou do 2º grau</td>\n",
       "      <td>1900.0</td>\n",
       "      <td>Alta</td>\n",
       "    </tr>\n",
       "    <tr>\n",
       "      <th>159854</th>\n",
       "      <td>Sim</td>\n",
       "      <td>Pessoa de referência</td>\n",
       "      <td>Regular do ensino médio ou do 2º grau</td>\n",
       "      <td>450.0</td>\n",
       "      <td>Média</td>\n",
       "    </tr>\n",
       "    <tr>\n",
       "      <th>159855</th>\n",
       "      <td>Sim</td>\n",
       "      <td>Cônjuge</td>\n",
       "      <td>Regular do ensino médio ou do 2º grau</td>\n",
       "      <td>450.0</td>\n",
       "      <td>Média</td>\n",
       "    </tr>\n",
       "    <tr>\n",
       "      <th>159860</th>\n",
       "      <td>Sim</td>\n",
       "      <td>Pessoa de referência</td>\n",
       "      <td>Elementar (primário)</td>\n",
       "      <td>890.0</td>\n",
       "      <td>Med Alta</td>\n",
       "    </tr>\n",
       "    <tr>\n",
       "      <th>159861</th>\n",
       "      <td>Sim</td>\n",
       "      <td>Cônjuge</td>\n",
       "      <td>Regular do ensino médio ou do 2º grau</td>\n",
       "      <td>890.0</td>\n",
       "      <td>Med Alta</td>\n",
       "    </tr>\n",
       "  </tbody>\n",
       "</table>\n",
       "</div>"
      ],
      "text/plain": [
       "       V0601                 V0401                                  V6007  \\\n",
       "159852   Sim  Pessoa de referência  Regular do ensino médio ou do 2º grau   \n",
       "159854   Sim  Pessoa de referência  Regular do ensino médio ou do 2º grau   \n",
       "159855   Sim               Cônjuge  Regular do ensino médio ou do 2º grau   \n",
       "159860   Sim  Pessoa de referência                   Elementar (primário)   \n",
       "159861   Sim               Cônjuge  Regular do ensino médio ou do 2º grau   \n",
       "\n",
       "         V4750 classe social  \n",
       "159852  1900.0          Alta  \n",
       "159854   450.0         Média  \n",
       "159855   450.0         Média  \n",
       "159860   890.0      Med Alta  \n",
       "159861   890.0      Med Alta  "
      ]
     },
     "execution_count": 34,
     "metadata": {},
     "output_type": "execute_result"
    }
   ],
   "source": [
    "#transformar renda em faixas\n",
    "dadosPI.loc[dadosPI.V4750 <= 81, \"classe social\"] = \"Ext baixa\"\n",
    "dadosPI.loc[(dadosPI.V4750 > 81) & (dadosPI.V4750 <= 291), \"classe social\"] = \"Baixa\"\n",
    "dadosPI.loc[(dadosPI.V4750 > 291) & (dadosPI.V4750 <= 441), \"classe social\"] = \"Med Baixa\"\n",
    "dadosPI.loc[(dadosPI.V4750 > 441) & (dadosPI.V4750 <= 641), \"classe social\"] = \"Média\"\n",
    "dadosPI.loc[(dadosPI.V4750 > 641) & (dadosPI.V4750 <= 1019), \"classe social\"] = \"Med Alta\"\n",
    "dadosPI.loc[dadosPI.V4750 > 1019, \"classe social\"] = \"Alta\"\n",
    "dadosPI.head()"
   ]
  },
  {
   "cell_type": "code",
   "execution_count": 35,
   "metadata": {},
   "outputs": [
    {
     "data": {
      "text/plain": [
       "Alta         7926\n",
       "Med Alta     5923\n",
       "Média        3338\n",
       "Med Baixa    2432\n",
       "Baixa        1932\n",
       "Ext baixa     420\n",
       "Name: classe social, dtype: int64"
      ]
     },
     "execution_count": 35,
     "metadata": {},
     "output_type": "execute_result"
    }
   ],
   "source": [
    "dadosPI[\"classe social\"].value_counts()"
   ]
  },
  {
   "cell_type": "code",
   "execution_count": 37,
   "metadata": {},
   "outputs": [
    {
     "data": {
      "text/html": [
       "<div>\n",
       "<style>\n",
       "    .dataframe thead tr:only-child th {\n",
       "        text-align: right;\n",
       "    }\n",
       "\n",
       "    .dataframe thead th {\n",
       "        text-align: left;\n",
       "    }\n",
       "\n",
       "    .dataframe tbody tr th {\n",
       "        vertical-align: top;\n",
       "    }\n",
       "</style>\n",
       "<table border=\"1\" class=\"dataframe\">\n",
       "  <thead>\n",
       "    <tr style=\"text-align: right;\">\n",
       "      <th></th>\n",
       "      <th>Sabe ler e escrever</th>\n",
       "      <th>Pessoa de referência</th>\n",
       "      <th>Curso mais eelevado que frequentou</th>\n",
       "      <th>Rendimento familiar per capta</th>\n",
       "      <th>classe social</th>\n",
       "    </tr>\n",
       "  </thead>\n",
       "  <tbody>\n",
       "    <tr>\n",
       "      <th>159852</th>\n",
       "      <td>Sim</td>\n",
       "      <td>Pessoa de referência</td>\n",
       "      <td>Regular do ensino médio ou do 2º grau</td>\n",
       "      <td>1900.0</td>\n",
       "      <td>Alta</td>\n",
       "    </tr>\n",
       "    <tr>\n",
       "      <th>159854</th>\n",
       "      <td>Sim</td>\n",
       "      <td>Pessoa de referência</td>\n",
       "      <td>Regular do ensino médio ou do 2º grau</td>\n",
       "      <td>450.0</td>\n",
       "      <td>Média</td>\n",
       "    </tr>\n",
       "    <tr>\n",
       "      <th>159855</th>\n",
       "      <td>Sim</td>\n",
       "      <td>Cônjuge</td>\n",
       "      <td>Regular do ensino médio ou do 2º grau</td>\n",
       "      <td>450.0</td>\n",
       "      <td>Média</td>\n",
       "    </tr>\n",
       "    <tr>\n",
       "      <th>159860</th>\n",
       "      <td>Sim</td>\n",
       "      <td>Pessoa de referência</td>\n",
       "      <td>Elementar (primário)</td>\n",
       "      <td>890.0</td>\n",
       "      <td>Med Alta</td>\n",
       "    </tr>\n",
       "    <tr>\n",
       "      <th>159861</th>\n",
       "      <td>Sim</td>\n",
       "      <td>Cônjuge</td>\n",
       "      <td>Regular do ensino médio ou do 2º grau</td>\n",
       "      <td>890.0</td>\n",
       "      <td>Med Alta</td>\n",
       "    </tr>\n",
       "  </tbody>\n",
       "</table>\n",
       "</div>"
      ],
      "text/plain": [
       "       Sabe ler e escrever  Pessoa de referência  \\\n",
       "159852                 Sim  Pessoa de referência   \n",
       "159854                 Sim  Pessoa de referência   \n",
       "159855                 Sim               Cônjuge   \n",
       "159860                 Sim  Pessoa de referência   \n",
       "159861                 Sim               Cônjuge   \n",
       "\n",
       "           Curso mais eelevado que frequentou  Rendimento familiar per capta  \\\n",
       "159852  Regular do ensino médio ou do 2º grau                         1900.0   \n",
       "159854  Regular do ensino médio ou do 2º grau                          450.0   \n",
       "159855  Regular do ensino médio ou do 2º grau                          450.0   \n",
       "159860                   Elementar (primário)                          890.0   \n",
       "159861  Regular do ensino médio ou do 2º grau                          890.0   \n",
       "\n",
       "       classe social  \n",
       "159852          Alta  \n",
       "159854         Média  \n",
       "159855         Média  \n",
       "159860      Med Alta  \n",
       "159861      Med Alta  "
      ]
     },
     "execution_count": 37,
     "metadata": {},
     "output_type": "execute_result"
    }
   ],
   "source": [
    "#mudando o nome das colunas\n",
    "dadosPI = dadosPI.rename (columns = {\"V0401\":\"Pessoa de referência\"})\n",
    "dadosPI = dadosPI.rename (columns = {\"V0601\":\"Sabe ler e escrever\"})\n",
    "dadosPI = dadosPI.rename (columns = {\"V6007\":\"Curso mais eelevado que frequentou\"})\n",
    "dadosPI = dadosPI.rename (columns = {\"V4750\":\"Rendimento familiar per capta\"})\n",
    "dadosPI.head()"
   ]
  },
  {
   "cell_type": "code",
   "execution_count": 20,
   "metadata": {},
   "outputs": [
    {
     "data": {
      "text/html": [
       "<div>\n",
       "<style>\n",
       "    .dataframe thead tr:only-child th {\n",
       "        text-align: right;\n",
       "    }\n",
       "\n",
       "    .dataframe thead th {\n",
       "        text-align: left;\n",
       "    }\n",
       "\n",
       "    .dataframe tbody tr th {\n",
       "        vertical-align: top;\n",
       "    }\n",
       "</style>\n",
       "<table border=\"1\" class=\"dataframe\">\n",
       "  <thead>\n",
       "    <tr style=\"text-align: right;\">\n",
       "      <th></th>\n",
       "      <th>Sabe ler e escrever</th>\n",
       "      <th>Pessoa de referência</th>\n",
       "      <th>Curso mais eelevado que frequentou</th>\n",
       "      <th>Rendimento familiar per capta</th>\n",
       "    </tr>\n",
       "  </thead>\n",
       "  <tbody>\n",
       "    <tr>\n",
       "      <th>159852</th>\n",
       "      <td>Sim</td>\n",
       "      <td>Pessoa de referência</td>\n",
       "      <td>Regular do ensino médio ou do 2º grau</td>\n",
       "      <td>1900.0</td>\n",
       "    </tr>\n",
       "    <tr>\n",
       "      <th>159854</th>\n",
       "      <td>Sim</td>\n",
       "      <td>Pessoa de referência</td>\n",
       "      <td>Regular do ensino médio ou do 2º grau</td>\n",
       "      <td>450.0</td>\n",
       "    </tr>\n",
       "    <tr>\n",
       "      <th>159855</th>\n",
       "      <td>Sim</td>\n",
       "      <td>Cônjuge</td>\n",
       "      <td>Regular do ensino médio ou do 2º grau</td>\n",
       "      <td>450.0</td>\n",
       "    </tr>\n",
       "    <tr>\n",
       "      <th>159860</th>\n",
       "      <td>Sim</td>\n",
       "      <td>Pessoa de referência</td>\n",
       "      <td>Elementar (primário)</td>\n",
       "      <td>890.0</td>\n",
       "    </tr>\n",
       "    <tr>\n",
       "      <th>159861</th>\n",
       "      <td>Sim</td>\n",
       "      <td>Cônjuge</td>\n",
       "      <td>Regular do ensino médio ou do 2º grau</td>\n",
       "      <td>890.0</td>\n",
       "    </tr>\n",
       "  </tbody>\n",
       "</table>\n",
       "</div>"
      ],
      "text/plain": [
       "       Sabe ler e escrever  Pessoa de referência  \\\n",
       "159852                 Sim  Pessoa de referência   \n",
       "159854                 Sim  Pessoa de referência   \n",
       "159855                 Sim               Cônjuge   \n",
       "159860                 Sim  Pessoa de referência   \n",
       "159861                 Sim               Cônjuge   \n",
       "\n",
       "           Curso mais eelevado que frequentou  Rendimento familiar per capta  \n",
       "159852  Regular do ensino médio ou do 2º grau                         1900.0  \n",
       "159854  Regular do ensino médio ou do 2º grau                          450.0  \n",
       "159855  Regular do ensino médio ou do 2º grau                          450.0  \n",
       "159860                   Elementar (primário)                          890.0  \n",
       "159861  Regular do ensino médio ou do 2º grau                          890.0  "
      ]
     },
     "execution_count": 20,
     "metadata": {},
     "output_type": "execute_result"
    }
   ],
   "source": []
  },
  {
   "cell_type": "markdown",
   "metadata": {},
   "source": [
    "___\n",
    "## Análise e Resultados"
   ]
  },
  {
   "cell_type": "code",
   "execution_count": null,
   "metadata": {
    "collapsed": true
   },
   "outputs": [],
   "source": []
  },
  {
   "cell_type": "code",
   "execution_count": null,
   "metadata": {
    "collapsed": true
   },
   "outputs": [],
   "source": []
  },
  {
   "cell_type": "markdown",
   "metadata": {},
   "source": [
    "___\n",
    "## Conclusão "
   ]
  },
  {
   "cell_type": "markdown",
   "metadata": {
    "collapsed": true
   },
   "source": [
    "Descreva aqui suas conclusões!"
   ]
  },
  {
   "cell_type": "code",
   "execution_count": null,
   "metadata": {
    "collapsed": true
   },
   "outputs": [],
   "source": []
  }
 ],
 "metadata": {
  "anaconda-cloud": {},
  "kernelspec": {
   "display_name": "Python 3",
   "language": "python",
   "name": "python3"
  },
  "language_info": {
   "codemirror_mode": {
    "name": "ipython",
    "version": 3
   },
   "file_extension": ".py",
   "mimetype": "text/x-python",
   "name": "python",
   "nbconvert_exporter": "python",
   "pygments_lexer": "ipython3",
   "version": "3.6.1"
  }
 },
 "nbformat": 4,
 "nbformat_minor": 1
}
